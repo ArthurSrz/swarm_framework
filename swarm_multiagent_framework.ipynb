{
 "cells": [
  {
   "cell_type": "markdown",
   "id": "f633dac8-ff10-4362-8712-76ac4d2be31c",
   "metadata": {},
   "source": [
    "# Unleash The Swarm - Multi Agent Orchestration\n",
    "\n",
    "Introducing a new proposed way of breaking down extensive agentic workflows- **Swarm**. Originally proposed by OpenAI in their [repo](https://github.com/openai/swarm) and [code research](https://cookbook.openai.com/examples/orchestrating_agents), they tackle the limitations of giving a single system prompt + multiple tools to an LLM for complex multi-step *routines* or processes.\n",
    "\n",
    "<div style=\"display: flex; justify-content: center;\">\n",
    "  <div style=\"margin-right: 20px; text-align: center;\">\n",
    "    <h3>Traditional Function Calling Agent</h3>\n",
    "    <img src=\"./media/traditional_agent.png\" width=\"400\">\n",
    "  </div>\n",
    "  <div style=\"text-align: center;\">\n",
    "    <h3>Multi Agent Orchestration with Swarm</h3>\n",
    "    <img src=\"./media/swarm.png\" width=\"400\">\n",
    "  </div>\n",
    "</div>\n",
    "\n",
    "The Swarm approach looks at agentic frameworks as **dynamic, context-aware switching between specialized agents to handle complex, multi-domain conversations more effectively.** Where:\n",
    "\n",
    "1. **Dynamic Switching**: The ability to change agents mid-conversation based on the evolving needs of the interaction.\n",
    "2. **Context-Aware**: Maintaining and transferring conversation history between agents, ensuring continuity and coherence.\n",
    "3. **Specialized Agents**: Using focused, domain-specific agents instead of a single generalist agent.\n",
    "4. **Complex, Multi-Domain Conversations**: Addressing the challenge of handling conversations that span multiple topics or require different types of expertise.\n",
    "5. **Improved Effectiveness**: Aiming to provide more appropriate and accurate responses by leveraging specialized knowledge and tools for each part of the conversation.\n",
    "\n",
    "In short, decomposing the task at hand across multiple specialized \"agents\" or \"routines\", orchestrated through the transfer of message history with specialized system prompts and corresponding functions to better execute on overarching plans. As a plus, this allows the dynamic switching between specific workflows, making it easier to specialize or tune specific routines via system prompts or tools."
   ]
  },
  {
   "cell_type": "markdown",
   "id": "43cd6f68-af4b-4bf7-94f8-3b9f6b0c73aa",
   "metadata": {},
   "source": [
    "---\n",
    "# Routines & Handoffs\n",
    "\n",
    "<img src=\"./media/routines.png\" width=800>\n",
    "\n",
    "Swarm operates with two main concepts in mind: **routines** and **handoffs**\n",
    "\n",
    "**Routines** capture the overall flow that you want your agentic structure to follow and complete. For our example, I am going to demonstrate the creation of a meal planning assistant. The routine of this might then be:\n",
    "\n",
    "```\n",
    "Understand user's meal planning needs and preferences\n",
    "- Take note of dietary restrictions\n",
    "- Take note of dietary preferences\n",
    "Generate meal ideas based on preferences and restrictions\n",
    "- Discuss the preferences\n",
    "- Take note of agreed upon meals\n",
    "Create recipes for the chosen meals\n",
    "- Find out what the user needs help making\n",
    "- Take note of all recipes needed for those meals\n",
    "Compile a grocery list for all meals\n",
    "- Look at the recipes and meals\n",
    "- Take note of the ingredients needed for these meals\n",
    "Generate a final report summarizing the meal plan, recipes, and grocery list\n",
    "- Determine whether the user is satisfied\n",
    "- Output a final report\n",
    "```\n",
    "\n",
    "But the main issue that we realize here is that within this routine are lots and lots of different operations that need to be executed, which can complicate things. Single prompt + tool language models tend to lose the improved performance that comes with specificity and narrow scopes as their overall routine to follow increases in length or complexity.\n",
    "\n",
    "This is where the **handoff** comes in. Instead of having that single system prompt and relying on one language model with all the tools to accurately and effectively handle the routine, we can break down each part into a sub-routine. These routines then become their own system prompts and corresponding set of tools, or \"agents\". This allows us to hand off the conversation between these agents and sub-routines.\n",
    "\n",
    "```\n",
    "Routine 1: Triage and Orchestration\n",
    "- Direct user queries to appropriate specialized agents\n",
    "- Suggest possible actions to the user\n",
    "- Initiate the final report generation when appropriate\n",
    "\n",
    "Routine 2: Meal Planning\n",
    "- Gather and note dietary preferences and restrictions\n",
    "- Ideate and suggest diverse meal choices\n",
    "- Record agreed-upon meals (aiming for 3 different meals)\n",
    "\n",
    "Routine 3: Recipe Creation and Grocery List Compilation\n",
    "- Create detailed recipes for chosen meals\n",
    "- Save recipes for future reference\n",
    "- Add required ingredients to the grocery list\n",
    "```\n",
    "\n",
    "Breaking it down and adding this level of specificity allows each sub-routine to be modular and scalable. Instead of having to worry about tuning the overall flow with a large and specific system prompt, you can work on and fine-tune the individual routines that make up the overall goal. \n",
    "\n",
    "Handing off the conversation to these different agents at different steps along the routine maintains the context and understanding, but allows our LLM to perform different specialized functions or tasks. This approach enhances the system's ability to handle complex tasks while maintaining focus and efficiency at each stage of the process."
   ]
  },
  {
   "cell_type": "markdown",
   "id": "066bbd95-9a1f-4226-96c6-a88554e4e9aa",
   "metadata": {},
   "source": [
    "---\n",
    "# Meal Planner Assistant \n",
    "\n",
    "<img src=\"./media/mealplanner_diagram.png\" width=300>\n",
    "For our code example, we'll be implementing the above meal planner idea"
   ]
  },
  {
   "cell_type": "markdown",
   "id": "cb97c36a-182f-47a8-a85c-bec837ec4619",
   "metadata": {},
   "source": [
    "#### Install Swarm Package"
   ]
  },
  {
   "cell_type": "code",
   "execution_count": null,
   "id": "6474d265-7511-4d7a-a1e3-98abeb55a458",
   "metadata": {},
   "outputs": [],
   "source": [
    "!pip install git+https://github.com/openai/swarm.git"
   ]
  },
  {
   "cell_type": "markdown",
   "id": "e23bbaee-5f64-43d4-b07d-6495860fd4e1",
   "metadata": {},
   "source": [
    "#### Defining The Tools\n",
    "\n",
    "Below we have all the specific tools for each routine\n",
    "\n",
    "1. `note_preference`: Write down user meal preferences and dietary restrictions\n",
    "2. `note_meal`: Write down agreed upon meals\n",
    "3. `save_recipe`: Create a recipe and write it down for \n",
    "4. `add_to_grocery_list`: Add necessary groceries for recipes to grocery list\n",
    "5. `generate_final_report`: Compile all information to a final report\n",
    "\n",
    "These will all write to a text file to keep track, as well as update `context_variables` to store this in a variable.\n",
    "\n",
    "Swarm will cover converting the python functions to tool schemas for the language model to call!"
   ]
  },
  {
   "cell_type": "code",
   "execution_count": 1,
   "id": "a89dbd56-dfe4-480f-a778-2811bcda8102",
   "metadata": {},
   "outputs": [],
   "source": [
    "def note_preference(preference: str):\n",
    "    \"\"\"Make a note about dietary preference to keep track.\"\"\"\n",
    "    \n",
    "    # Append to file\n",
    "    with open(\"./meal_plan/preferences.txt\", \"a\") as file:\n",
    "        file.write(f\"{preference}\\n\")\n",
    "    \n",
    "    context_variables['preferences'].append(preference)\n",
    "    \n",
    "    return \"Successfully noted preference!\"\n",
    "\n",
    "def note_meal(meal: str):\n",
    "    \"\"\"Write down a meal that has been agreed upon.\"\"\"\n",
    "\n",
    "    # Append to file\n",
    "    with open(\"./meal_plan/meals.txt\", \"a\") as file:\n",
    "        file.write(f\"{meal}\\n\")\n",
    "\n",
    "    context_variables['meals'].append(meal)\n",
    "    \n",
    "    return \"Successfully noted meal!\"\n",
    "\n",
    "def save_recipe(recipe: str):\n",
    "    \"\"\"Write down a recipe for a meal.\"\"\"\n",
    "\n",
    "    # Append to file\n",
    "    with open(\"./meal_plan/recipes.txt\", \"a\") as file:\n",
    "        file.write(f\"\\n{recipe}\\n\")\n",
    "\n",
    "    context_variables['recipes'].append(recipe)\n",
    "    \n",
    "    return \"Successfully noted recipe!\"\n",
    "\n",
    "def add_to_grocery_list(items: str):\n",
    "    \"\"\"Add items to the grocery list\"\"\"\n",
    "    \n",
    "    # Append to file\n",
    "    with open(\"./meal_plan/grocery_list.txt\", \"a\") as file:\n",
    "        file.write(f\"{items}\\n\")\n",
    "\n",
    "    context_variables['grocery_list'].append(items)\n",
    "    \n",
    "    return f\"Successfully added {items} item(s) to the grocery list!\"\n",
    "\n",
    "def generate_final_report(context_variables: dict):\n",
    "    \"\"\"Generate a final report document from the context variables.\"\"\"\n",
    "    report = \"Meal Planning Report\\n=====================\\n\\n\"\n",
    "\n",
    "    # Add preferences\n",
    "    report += \"Dietary Preferences and Restrictions:\\n\"\n",
    "    for pref in context_variables.get('preferences', []):\n",
    "        report += f\"- {pref}\\n\"\n",
    "    report += \"\\n\"\n",
    "\n",
    "    # Add meals\n",
    "    report += \"Planned Meals:\\n\"\n",
    "    for meal in context_variables.get('meals', []):\n",
    "        report += f\"- {meal}\\n\"\n",
    "    report += \"\\n\"\n",
    "\n",
    "    # Add recipes\n",
    "    report += \"Recipes:\\n\"\n",
    "    for recipe in context_variables.get('recipes', []):\n",
    "        report += f\"{recipe}\\n\\n\"\n",
    "\n",
    "    # Add grocery list\n",
    "    report += \"Grocery List:\\n\"\n",
    "    for item in context_variables.get('grocery_list', []):\n",
    "        report += f\"- {item}\\n\"\n",
    "\n",
    "    # Write report to file\n",
    "    with open(\"./meal_plan/final_report.txt\", \"w\") as file:\n",
    "        file.write(report)\n",
    "\n",
    "    return \"Final report generated successfully! Saved as 'final_report.txt' in the meal_plan directory.\""
   ]
  },
  {
   "cell_type": "markdown",
   "id": "3cd1e1bf-64d3-4847-bd2c-20b1151842b1",
   "metadata": {},
   "source": [
    "#### Defining our Handoffs\n",
    "\n",
    "Handoffs are covered as function calls themselves that return the agent we want to handoff to. \n",
    "\n",
    "We'll have one main function to go back to the triage agent that our subroutine agents can call, and then two respective functions for the triage agent to transfer to the different sub routines"
   ]
  },
  {
   "cell_type": "code",
   "execution_count": 2,
   "id": "31b3f365-bdcb-46be-a172-7d44fd8afce5",
   "metadata": {},
   "outputs": [],
   "source": [
    "def transfer_back_to_triage():\n",
    "    \"\"\"Transfer back to triage agent once task is complete, or question out of scope is asked.\"\"\"\n",
    "    return triage_agent\n",
    "\n",
    "def transfer_to_recipe_agent():\n",
    "    \"\"\"Transfer to Recipe Agent for handling creation of recipes for the meals.\"\"\"\n",
    "    return recipe_agent\n",
    "\n",
    "def transfer_to_meals_agent():\n",
    "    \"\"\"Transfer to Meals Agent for handling of preferences, dietary restrictions, and meals.\"\"\"\n",
    "    return meal_agent"
   ]
  },
  {
   "cell_type": "markdown",
   "id": "7ce34ea2-e98f-4ced-909a-17974cfc5a0f",
   "metadata": {},
   "source": [
    "#### System Prompts\n",
    "\n",
    "The heart of the Swarm routine approach, breaking down our main workflow into sub routines that we can specialize in"
   ]
  },
  {
   "cell_type": "code",
   "execution_count": 3,
   "id": "849e8356-70b1-4086-925a-f3b489a81a3e",
   "metadata": {},
   "outputs": [],
   "source": [
    "triage_system_message = (\n",
    "    \"You are an expert triaging agent for a meal prepping orchestation, handling the conversation between the user and multiple specialist agents.\"    \n",
    "    \"Once you are ready to transfer to the right intent, call the tool to transfer to the right agent. Do not handle requests yourself\"\n",
    "    \"You dont need to know specifics, just the topic of the request.\"\n",
    "    \"When you need more information to triage the request to an agent, ask a direct question without explaining why you're asking it.\"\n",
    "    \"Do not share your thought process with the user! Do not make unreasonable assumptions on behalf of user.\"\n",
    "    \"Based on the conversation or when its first starting out, suggest some possible actions to take to accurately transfer the user\"\n",
    "    \"Finally, you have the ability to compile the conversation into a report. If it looks like the user is at a good stopping point, suggest this.\"\n",
    "    )\n",
    "\n",
    "meal_system_message = (\n",
    "    \"You are a meal planning assistant.\"\n",
    "    \"Always answer in a sentence or less.\"\n",
    "    \"Always take explicit note of preferences or restrictions\"\n",
    "    \"Follow the following routine with the user:\"\n",
    "    \"Find all restrictions and preferences, make explicit note of them\"\n",
    "    \"Then, help ideate different meal choices, noting down agreed upon meals\"\n",
    "    \"Try and get to diverse 3 different meal choices\"\n",
    "    \"Make your questions subtle and natural.\"\n",
    "    \"Once you have three meals transfer back to the triage agent.\"\n",
    ")\n",
    "\n",
    "recipe_system_message = (\n",
    "    \"You are a recipe creation assistant.\"\n",
    "    \"Keep your conversation answers brief to maintain flow\"\n",
    "    \"Follow the following routine with the user:\"\n",
    "    \"Determine what meals the user would like to get recipes for\"\n",
    "    \"Then, create recipes for the meals and save them for the user\"\n",
    "    \"Make sure to add the ingredients needed to the grocery list\"\n",
    "    \"As well as anything else the user might need for groceries\"\n",
    "    \"Make your responses subtle and natural.\"\n",
    "    \"At the end of the conversation, transfer back to the triage agent.\"\n",
    ")"
   ]
  },
  {
   "cell_type": "markdown",
   "id": "fceb5848-912c-4218-91bf-cae17b2c601f",
   "metadata": {},
   "source": [
    "#### Creating the Agents\n",
    "\n",
    "Here is where we'll finally use Swarm's `Agent` function to attach the model with the system prompts and functions."
   ]
  },
  {
   "cell_type": "code",
   "execution_count": 4,
   "id": "8beec905-780b-48d9-9fee-3835c8b41146",
   "metadata": {},
   "outputs": [],
   "source": [
    "from swarm import Swarm, Agent\n",
    "\n",
    "# Agents\n",
    "triage_agent = Agent(\n",
    "    name=\"Triage Agent\",\n",
    "    model=\"gpt-4o\",\n",
    "    instructions=triage_system_message,\n",
    "    functions=[transfer_to_meals_agent, transfer_to_recipe_agent, generate_final_report]\n",
    ")\n",
    "\n",
    "meal_agent = Agent(\n",
    "    name=\"Meal Agent\",\n",
    "    model=\"gpt-4o\",\n",
    "    instructions=meal_system_message,\n",
    "    functions = [note_meal, note_preference, transfer_back_to_triage]\n",
    ")\n",
    "\n",
    "recipe_agent = Agent(\n",
    "    name=\"Recipe Agent\",\n",
    "    model=\"gpt-4o\",\n",
    "    instructions=recipe_system_message,\n",
    "    functions = [save_recipe, add_to_grocery_list, transfer_back_to_triage]\n",
    ")"
   ]
  },
  {
   "cell_type": "markdown",
   "id": "276a4ede-135e-4872-8c93-f82cd1186c67",
   "metadata": {},
   "source": [
    "#### Trying it Out!\n",
    "\n",
    "We'll use one of Swarm's built in demo loops to test out our agentic system.\n",
    "\n",
    "We'll also be passing in `context_variables`- Swarm's way of handling the passage of information across agents that can either be prepopulated or updated during the run.\n",
    "\n",
    "They define it as *a dictionary of additional context variables, available to functions and Agent instructions*"
   ]
  },
  {
   "cell_type": "code",
   "execution_count": 8,
   "id": "23ce47e0-3117-4749-81aa-ff9dd85a5c3d",
   "metadata": {},
   "outputs": [
    {
     "name": "stdout",
     "output_type": "stream",
     "text": [
      "Starting Swarm CLI 🐝\n"
     ]
    },
    {
     "name": "stdin",
     "output_type": "stream",
     "text": [
      "\u001b[90mUser\u001b[0m:  Hello\n"
     ]
    },
    {
     "name": "stdout",
     "output_type": "stream",
     "text": [
      "\u001b[94mTriage Agent:\u001b[0m Hi there! How can I assist you today? Here are a few things I can help with:\n",
      "\n",
      "- Managing your meal preferences or dietary restrictions\n",
      "- Creating recipes for your meals\n",
      "\n",
      "Let me know what you'd like to do!\n"
     ]
    },
    {
     "name": "stdin",
     "output_type": "stream",
     "text": [
      "\u001b[90mUser\u001b[0m:  meal preferences\n"
     ]
    },
    {
     "name": "stdout",
     "output_type": "stream",
     "text": [
      "\u001b[94mTriage Agent:\u001b[0m Could you please let me know about any specific dietary restrictions or preferences you have? This will help in accurately handling your meal preferences.\n"
     ]
    },
    {
     "name": "stdin",
     "output_type": "stream",
     "text": [
      "\u001b[90mUser\u001b[0m:  im allergic to peanuts\n"
     ]
    },
    {
     "name": "stdout",
     "output_type": "stream",
     "text": [
      "\u001b[94mTriage Agent: \u001b[95mtransfer_to_meals_agent\u001b[0m()\n",
      "\u001b[94mMeal Agent: \u001b[95mnote_preference\u001b[0m()\n",
      "\u001b[94mMeal Agent:\u001b[0m Got it, you have a peanut allergy. Any other food preferences or restrictions I should be aware of?\n"
     ]
    },
    {
     "name": "stdin",
     "output_type": "stream",
     "text": [
      "\u001b[90mUser\u001b[0m:  also i dont like scallops all too much\n"
     ]
    },
    {
     "name": "stdout",
     "output_type": "stream",
     "text": [
      "\u001b[94mMeal Agent: \u001b[95mnote_preference\u001b[0m()\n",
      "\u001b[94mMeal Agent:\u001b[0m Noted: you dislike scallops. Let's start ideating meal choices for you!\n"
     ]
    },
    {
     "name": "stdin",
     "output_type": "stream",
     "text": [
      "\u001b[90mUser\u001b[0m:  sure\n"
     ]
    },
    {
     "name": "stdout",
     "output_type": "stream",
     "text": [
      "\u001b[94mMeal Agent:\u001b[0m How about a classic grilled chicken salad to start?\n"
     ]
    },
    {
     "name": "stdin",
     "output_type": "stream",
     "text": [
      "\u001b[90mUser\u001b[0m:  that sounds yummy\n"
     ]
    },
    {
     "name": "stdout",
     "output_type": "stream",
     "text": [
      "\u001b[94mMeal Agent: \u001b[95mnote_meal\u001b[0m()\n",
      "\u001b[94mMeal Agent:\u001b[0m Great! Grilled chicken salad is on the list. How about an Italian pasta with tomato-basil sauce next?\n"
     ]
    },
    {
     "name": "stdin",
     "output_type": "stream",
     "text": [
      "\u001b[90mUser\u001b[0m:  tomato basil isnt my fav, what else\n"
     ]
    },
    {
     "name": "stdout",
     "output_type": "stream",
     "text": [
      "\u001b[94mMeal Agent:\u001b[0m How about a creamy Alfredo pasta?\n"
     ]
    },
    {
     "name": "stdin",
     "output_type": "stream",
     "text": [
      "\u001b[90mUser\u001b[0m:  that sounds good\n"
     ]
    },
    {
     "name": "stdout",
     "output_type": "stream",
     "text": [
      "\u001b[94mMeal Agent: \u001b[95mnote_meal\u001b[0m()\n",
      "\u001b[94mMeal Agent:\u001b[0m Perfect! We have creamy Alfredo pasta on the list. For the third option, how about a vegetable stir-fry with tofu?\n"
     ]
    },
    {
     "name": "stdin",
     "output_type": "stream",
     "text": [
      "\u001b[90mUser\u001b[0m:  sounds good too!\n"
     ]
    },
    {
     "name": "stdout",
     "output_type": "stream",
     "text": [
      "\u001b[94mMeal Agent: \u001b[95mnote_meal\u001b[0m()\n",
      "\u001b[94mMeal Agent: \u001b[95mtransfer_back_to_triage\u001b[0m()\n",
      "\u001b[94mTriage Agent:\u001b[0m Great! We have added vegetable stir-fry with tofu. Would you like a report on your meal preferences?\n"
     ]
    },
    {
     "name": "stdin",
     "output_type": "stream",
     "text": [
      "\u001b[90mUser\u001b[0m:  i want some recipes\n"
     ]
    },
    {
     "name": "stdout",
     "output_type": "stream",
     "text": [
      "\u001b[94mTriage Agent: \u001b[95mtransfer_to_recipe_agent\u001b[0m()\n",
      "\u001b[94mRecipe Agent:\u001b[0m What meal would you like a recipe for first?\n"
     ]
    },
    {
     "name": "stdin",
     "output_type": "stream",
     "text": [
      "\u001b[90mUser\u001b[0m:  how about the alfredo pasta\n"
     ]
    },
    {
     "name": "stdout",
     "output_type": "stream",
     "text": [
      "\u001b[94mRecipe Agent: \u001b[95msave_recipe\u001b[0m()\n",
      "\u001b[94mRecipe Agent: \u001b[95madd_to_grocery_list\u001b[0m()\n",
      "\u001b[94mRecipe Agent:\u001b[0m I've saved the creamy Alfredo pasta recipe for you and added all the necessary ingredients to your grocery list. Would you like a recipe for the grilled chicken salad or the vegetable stir-fry with tofu next?\n"
     ]
    },
    {
     "name": "stdin",
     "output_type": "stream",
     "text": [
      "\u001b[90mUser\u001b[0m:  stir fry\n"
     ]
    },
    {
     "name": "stdout",
     "output_type": "stream",
     "text": [
      "\u001b[94mRecipe Agent: \u001b[95msave_recipe\u001b[0m()\n",
      "\u001b[94mRecipe Agent: \u001b[95madd_to_grocery_list\u001b[0m()\n",
      "\u001b[94mRecipe Agent:\u001b[0m I've saved the vegetable stir-fry with tofu recipe for you and added all the ingredients to your grocery list. Would you like the recipe for the grilled chicken salad as well?\n"
     ]
    },
    {
     "name": "stdin",
     "output_type": "stream",
     "text": [
      "\u001b[90mUser\u001b[0m:  im good for the chicken salad\n"
     ]
    },
    {
     "name": "stdout",
     "output_type": "stream",
     "text": [
      "\u001b[94mRecipe Agent:\u001b[0m Alright, if you need help with anything else, feel free to let me know. Enjoy your cooking!\n"
     ]
    },
    {
     "name": "stdin",
     "output_type": "stream",
     "text": [
      "\u001b[90mUser\u001b[0m:  i want that report actually\n"
     ]
    },
    {
     "name": "stdout",
     "output_type": "stream",
     "text": [
      "\u001b[94mRecipe Agent: \u001b[95mtransfer_back_to_triage\u001b[0m()\n",
      "\u001b[94mTriage Agent: \u001b[95mgenerate_final_report\u001b[0m()\n",
      "\u001b[94mTriage Agent:\u001b[0m I've generated the final report for you. If there's anything else you need, just let me know!\n"
     ]
    },
    {
     "ename": "KeyboardInterrupt",
     "evalue": "Interrupted by user",
     "output_type": "error",
     "traceback": [
      "\u001b[0;31m---------------------------------------------------------------------------\u001b[0m",
      "\u001b[0;31mKeyboardInterrupt\u001b[0m                         Traceback (most recent call last)",
      "Cell \u001b[0;32mIn[8], line 10\u001b[0m\n\u001b[1;32m      1\u001b[0m \u001b[38;5;28;01mfrom\u001b[39;00m \u001b[38;5;21;01mswarm\u001b[39;00m\u001b[38;5;21;01m.\u001b[39;00m\u001b[38;5;21;01mrepl\u001b[39;00m \u001b[38;5;28;01mimport\u001b[39;00m run_demo_loop\n\u001b[1;32m      3\u001b[0m context_variables \u001b[38;5;241m=\u001b[39m {\n\u001b[1;32m      4\u001b[0m     \u001b[38;5;124m\"\u001b[39m\u001b[38;5;124mpreferences\u001b[39m\u001b[38;5;124m\"\u001b[39m: [],\n\u001b[1;32m      5\u001b[0m     \u001b[38;5;124m\"\u001b[39m\u001b[38;5;124mmeals\u001b[39m\u001b[38;5;124m\"\u001b[39m: [],\n\u001b[1;32m      6\u001b[0m     \u001b[38;5;124m\"\u001b[39m\u001b[38;5;124mrecipes\u001b[39m\u001b[38;5;124m\"\u001b[39m: [],\n\u001b[1;32m      7\u001b[0m     \u001b[38;5;124m\"\u001b[39m\u001b[38;5;124mgrocery_list\u001b[39m\u001b[38;5;124m\"\u001b[39m: []\n\u001b[1;32m      8\u001b[0m }\n\u001b[0;32m---> 10\u001b[0m \u001b[43mrun_demo_loop\u001b[49m\u001b[43m(\u001b[49m\u001b[43mtriage_agent\u001b[49m\u001b[43m,\u001b[49m\u001b[43m \u001b[49m\u001b[43mstream\u001b[49m\u001b[38;5;241;43m=\u001b[39;49m\u001b[38;5;28;43;01mTrue\u001b[39;49;00m\u001b[43m,\u001b[49m\u001b[43m \u001b[49m\u001b[43mcontext_variables\u001b[49m\u001b[38;5;241;43m=\u001b[39;49m\u001b[43mcontext_variables\u001b[49m\u001b[43m)\u001b[49m\n",
      "File \u001b[0;32m~/.pyenv/versions/3.12.0/lib/python3.12/site-packages/swarm/repl/repl.py:70\u001b[0m, in \u001b[0;36mrun_demo_loop\u001b[0;34m(starting_agent, context_variables, stream, debug)\u001b[0m\n\u001b[1;32m     67\u001b[0m agent \u001b[38;5;241m=\u001b[39m starting_agent\n\u001b[1;32m     69\u001b[0m \u001b[38;5;28;01mwhile\u001b[39;00m \u001b[38;5;28;01mTrue\u001b[39;00m:\n\u001b[0;32m---> 70\u001b[0m     user_input \u001b[38;5;241m=\u001b[39m \u001b[38;5;28;43minput\u001b[39;49m\u001b[43m(\u001b[49m\u001b[38;5;124;43m\"\u001b[39;49m\u001b[38;5;130;43;01m\\033\u001b[39;49;00m\u001b[38;5;124;43m[90mUser\u001b[39;49m\u001b[38;5;130;43;01m\\033\u001b[39;49;00m\u001b[38;5;124;43m[0m: \u001b[39;49m\u001b[38;5;124;43m\"\u001b[39;49m\u001b[43m)\u001b[49m\n\u001b[1;32m     71\u001b[0m     messages\u001b[38;5;241m.\u001b[39mappend({\u001b[38;5;124m\"\u001b[39m\u001b[38;5;124mrole\u001b[39m\u001b[38;5;124m\"\u001b[39m: \u001b[38;5;124m\"\u001b[39m\u001b[38;5;124muser\u001b[39m\u001b[38;5;124m\"\u001b[39m, \u001b[38;5;124m\"\u001b[39m\u001b[38;5;124mcontent\u001b[39m\u001b[38;5;124m\"\u001b[39m: user_input})\n\u001b[1;32m     73\u001b[0m     response \u001b[38;5;241m=\u001b[39m client\u001b[38;5;241m.\u001b[39mrun(\n\u001b[1;32m     74\u001b[0m         agent\u001b[38;5;241m=\u001b[39magent,\n\u001b[1;32m     75\u001b[0m         messages\u001b[38;5;241m=\u001b[39mmessages,\n\u001b[0;32m   (...)\u001b[0m\n\u001b[1;32m     78\u001b[0m         debug\u001b[38;5;241m=\u001b[39mdebug,\n\u001b[1;32m     79\u001b[0m     )\n",
      "File \u001b[0;32m~/.pyenv/versions/3.12.0/lib/python3.12/site-packages/ipykernel/kernelbase.py:1262\u001b[0m, in \u001b[0;36mKernel.raw_input\u001b[0;34m(self, prompt)\u001b[0m\n\u001b[1;32m   1260\u001b[0m     msg \u001b[38;5;241m=\u001b[39m \u001b[38;5;124m\"\u001b[39m\u001b[38;5;124mraw_input was called, but this frontend does not support input requests.\u001b[39m\u001b[38;5;124m\"\u001b[39m\n\u001b[1;32m   1261\u001b[0m     \u001b[38;5;28;01mraise\u001b[39;00m StdinNotImplementedError(msg)\n\u001b[0;32m-> 1262\u001b[0m \u001b[38;5;28;01mreturn\u001b[39;00m \u001b[38;5;28;43mself\u001b[39;49m\u001b[38;5;241;43m.\u001b[39;49m\u001b[43m_input_request\u001b[49m\u001b[43m(\u001b[49m\n\u001b[1;32m   1263\u001b[0m \u001b[43m    \u001b[49m\u001b[38;5;28;43mstr\u001b[39;49m\u001b[43m(\u001b[49m\u001b[43mprompt\u001b[49m\u001b[43m)\u001b[49m\u001b[43m,\u001b[49m\n\u001b[1;32m   1264\u001b[0m \u001b[43m    \u001b[49m\u001b[38;5;28;43mself\u001b[39;49m\u001b[38;5;241;43m.\u001b[39;49m\u001b[43m_parent_ident\u001b[49m\u001b[43m[\u001b[49m\u001b[38;5;124;43m\"\u001b[39;49m\u001b[38;5;124;43mshell\u001b[39;49m\u001b[38;5;124;43m\"\u001b[39;49m\u001b[43m]\u001b[49m\u001b[43m,\u001b[49m\n\u001b[1;32m   1265\u001b[0m \u001b[43m    \u001b[49m\u001b[38;5;28;43mself\u001b[39;49m\u001b[38;5;241;43m.\u001b[39;49m\u001b[43mget_parent\u001b[49m\u001b[43m(\u001b[49m\u001b[38;5;124;43m\"\u001b[39;49m\u001b[38;5;124;43mshell\u001b[39;49m\u001b[38;5;124;43m\"\u001b[39;49m\u001b[43m)\u001b[49m\u001b[43m,\u001b[49m\n\u001b[1;32m   1266\u001b[0m \u001b[43m    \u001b[49m\u001b[43mpassword\u001b[49m\u001b[38;5;241;43m=\u001b[39;49m\u001b[38;5;28;43;01mFalse\u001b[39;49;00m\u001b[43m,\u001b[49m\n\u001b[1;32m   1267\u001b[0m \u001b[43m\u001b[49m\u001b[43m)\u001b[49m\n",
      "File \u001b[0;32m~/.pyenv/versions/3.12.0/lib/python3.12/site-packages/ipykernel/kernelbase.py:1305\u001b[0m, in \u001b[0;36mKernel._input_request\u001b[0;34m(self, prompt, ident, parent, password)\u001b[0m\n\u001b[1;32m   1302\u001b[0m \u001b[38;5;28;01mexcept\u001b[39;00m \u001b[38;5;167;01mKeyboardInterrupt\u001b[39;00m:\n\u001b[1;32m   1303\u001b[0m     \u001b[38;5;66;03m# re-raise KeyboardInterrupt, to truncate traceback\u001b[39;00m\n\u001b[1;32m   1304\u001b[0m     msg \u001b[38;5;241m=\u001b[39m \u001b[38;5;124m\"\u001b[39m\u001b[38;5;124mInterrupted by user\u001b[39m\u001b[38;5;124m\"\u001b[39m\n\u001b[0;32m-> 1305\u001b[0m     \u001b[38;5;28;01mraise\u001b[39;00m \u001b[38;5;167;01mKeyboardInterrupt\u001b[39;00m(msg) \u001b[38;5;28;01mfrom\u001b[39;00m \u001b[38;5;28;01mNone\u001b[39;00m\n\u001b[1;32m   1306\u001b[0m \u001b[38;5;28;01mexcept\u001b[39;00m \u001b[38;5;167;01mException\u001b[39;00m:\n\u001b[1;32m   1307\u001b[0m     \u001b[38;5;28mself\u001b[39m\u001b[38;5;241m.\u001b[39mlog\u001b[38;5;241m.\u001b[39mwarning(\u001b[38;5;124m\"\u001b[39m\u001b[38;5;124mInvalid Message:\u001b[39m\u001b[38;5;124m\"\u001b[39m, exc_info\u001b[38;5;241m=\u001b[39m\u001b[38;5;28;01mTrue\u001b[39;00m)\n",
      "\u001b[0;31mKeyboardInterrupt\u001b[0m: Interrupted by user"
     ]
    }
   ],
   "source": [
    "from swarm.repl import run_demo_loop\n",
    "\n",
    "context_variables = {\n",
    "    \"preferences\": [],\n",
    "    \"meals\": [],\n",
    "    \"recipes\": [],\n",
    "    \"grocery_list\": []\n",
    "}\n",
    "\n",
    "run_demo_loop(triage_agent, stream=True, context_variables=context_variables)"
   ]
  },
  {
   "cell_type": "code",
   "execution_count": 7,
   "id": "2509ddd2-1e72-451a-b858-fe7f5f695ae4",
   "metadata": {},
   "outputs": [],
   "source": [
    "# Reset Texts\n",
    "open('./meal_plan/preferences.txt', 'w').close()\n",
    "open('./meal_plan/meals.txt', 'w').close()\n",
    "open('./meal_plan/recipes.txt', 'w').close()\n",
    "open('./meal_plan/grocery_list.txt', 'w').close()\n",
    "open('./meal_plan/final_report.txt', 'w').close()"
   ]
  },
  {
   "cell_type": "markdown",
   "id": "fb58d08a-06c6-49e0-9090-baabfcec86ae",
   "metadata": {},
   "source": [
    "---\n",
    "# Final thoughts\n",
    "\n",
    "This approach optimizes the simple LLM + Tools Agent or Function Calling Agent, improving performance as scope and capabilities increase. It leverages language models' adherence to system prompts and narrowly defined \"routines\" with specialized tools. Dynamic swapping of prompts and tools through handoffs enables reliable execution of complex tasks. \n",
    "\n",
    "Decomposing tasks into modular agents allows individual refinement of subroutines, reducing the need for lengthy system prompts. This modular structure facilitates easier maintenance and scalability, allowing addition of new capabilities without system-wide overhauls. The result is a more robust and adaptable AI system, capable of handling diverse scenarios efficiently while only needing the built in function calling ability."
   ]
  },
  {
   "cell_type": "code",
   "execution_count": null,
   "id": "357f8057-ad87-4ca2-be7c-09d9c0f81c3d",
   "metadata": {},
   "outputs": [],
   "source": []
  }
 ],
 "metadata": {
  "kernelspec": {
   "display_name": "Python 3 (ipykernel)",
   "language": "python",
   "name": "python3"
  },
  "language_info": {
   "codemirror_mode": {
    "name": "ipython",
    "version": 3
   },
   "file_extension": ".py",
   "mimetype": "text/x-python",
   "name": "python",
   "nbconvert_exporter": "python",
   "pygments_lexer": "ipython3",
   "version": "3.12.0"
  }
 },
 "nbformat": 4,
 "nbformat_minor": 5
}
